{
 "cells": [
  {
   "cell_type": "code",
   "execution_count": 1,
   "metadata": {},
   "outputs": [],
   "source": [
    "import PyPDF2\n",
    "import re\n",
    "\n",
    "def pdf_to_markdown(pdf_path, output_path):\n",
    "    # Open the PDF file\n",
    "    with open(pdf_path, 'rb') as file:\n",
    "        # Create a PDF reader object\n",
    "        pdf_reader = PyPDF2.PdfReader(file)\n",
    "        \n",
    "        # Initialize markdown content\n",
    "        markdown_content = \"\"\n",
    "        \n",
    "        # Extract text from each page\n",
    "        for page in pdf_reader.pages:\n",
    "            text = page.extract_text()\n",
    "            \n",
    "            # Basic formatting conversions\n",
    "            # Convert common PDF formatting to markdown\n",
    "            \n",
    "            # Headers (assuming text size/bold indicates headers)\n",
    "            lines = text.split('\\n')\n",
    "            formatted_lines = []\n",
    "            \n",
    "            for line in lines:\n",
    "                line = line.strip()\n",
    "                if not line:\n",
    "                    continue\n",
    "                    \n",
    "                # Assume lines in all caps might be headers\n",
    "                if line.isupper():\n",
    "                    formatted_lines.append(f\"## {line.title()}\\n\")\n",
    "                else:\n",
    "                    formatted_lines.append(f\"{line}\\n\")\n",
    "            \n",
    "            markdown_content += \"\\n\".join(formatted_lines)\n",
    "        \n",
    "        # Write to markdown file\n",
    "        with open(output_path, 'w', encoding='utf-8') as md_file:\n",
    "            md_file.write(markdown_content)\n",
    "\n",
    "# Usage\n",
    "pdf_path = \"Hrithik_Koduri_Resume.pdf\"\n",
    "output_path = \"Hrithik_Koduri_Resume.md\"\n",
    "pdf_to_markdown(pdf_path, output_path)"
   ]
  }
 ],
 "metadata": {
  "kernelspec": {
   "display_name": "venv",
   "language": "python",
   "name": "python3"
  },
  "language_info": {
   "codemirror_mode": {
    "name": "ipython",
    "version": 3
   },
   "file_extension": ".py",
   "mimetype": "text/x-python",
   "name": "python",
   "nbconvert_exporter": "python",
   "pygments_lexer": "ipython3",
   "version": "3.11.5"
  }
 },
 "nbformat": 4,
 "nbformat_minor": 2
}
